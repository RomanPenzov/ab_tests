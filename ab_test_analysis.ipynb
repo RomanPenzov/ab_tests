{
  "cells": [
    {
      "cell_type": "code",
      "execution_count": 2,
      "metadata": {
        "id": "WVeFD_EMJQgS"
      },
      "outputs": [],
      "source": [
        "import pandas as pd\n",
        "import numpy as np\n",
        "import scipy.stats as stats\n",
        "import matplotlib.pyplot as plt\n",
        "import seaborn as sns\n",
        "# Подключение модуля для загрузки данных из облака\n",
        "import gdown\n",
        "# Для работы с файлами\n",
        "import gc\n",
        "import zipfile"
      ]
    },
    {
      "cell_type": "code",
      "execution_count": 3,
      "metadata": {
        "colab": {
          "base_uri": "https://localhost:8080/"
        },
        "id": "9WxZOSHNKdwS",
        "outputId": "8517dd41-bb02-4bbb-f94f-cc581ce3374e"
      },
      "outputs": [
        {
          "name": "stdout",
          "output_type": "stream",
          "text": [
            "Mounted at /content/gdrive\n"
          ]
        }
      ],
      "source": [
        "# Подключение к Google Drive\n",
        "from google.colab import drive\n",
        "drive.mount('/content/gdrive')"
      ]
    },
    {
      "cell_type": "code",
      "execution_count": 5,
      "metadata": {
        "id": "Ipzcr1VXKuwH"
      },
      "outputs": [],
      "source": [
        "# Путь к архивному файлу\n",
        "file_path = '/content/gdrive/MyDrive/AB-tests_HW.zip'\n",
        "# Путь к директории, в которую нужно разархивировать файл\n",
        "extract_path = '/content/AB-tests_HW'"
      ]
    },
    {
      "cell_type": "code",
      "execution_count": 7,
      "metadata": {
        "id": "U2tUuw9oLp_r"
      },
      "outputs": [],
      "source": [
        "# Разархивирование файла\n",
        "with zipfile.ZipFile(file_path, 'r') as zip_ref:\n",
        "    zip_ref.extractall(extract_path)"
      ]
    },
    {
      "cell_type": "code",
      "execution_count": 12,
      "metadata": {
        "id": "eR45sr-LL_wS"
      },
      "outputs": [],
      "source": [
        "# Загружаем данные\n",
        "data = pd.read_csv('AB-tests_HW/marketing_AB.csv')"
      ]
    },
    {
      "cell_type": "markdown",
      "metadata": {
        "id": "YYvq5pTlMk6W"
      },
      "source": [
        "# Шаг 1. Анализ структуры данных и предобработка"
      ]
    },
    {
      "cell_type": "code",
      "execution_count": 13,
      "metadata": {
        "colab": {
          "base_uri": "https://localhost:8080/"
        },
        "id": "kgC3dfd6MozA",
        "outputId": "28e4b3c9-13dd-4bcb-f4b1-d1a42dc3295e"
      },
      "outputs": [
        {
          "name": "stdout",
          "output_type": "stream",
          "text": [
            "<class 'pandas.core.frame.DataFrame'>\n",
            "RangeIndex: 588101 entries, 0 to 588100\n",
            "Data columns (total 7 columns):\n",
            " #   Column         Non-Null Count   Dtype \n",
            "---  ------         --------------   ----- \n",
            " 0   Unnamed: 0     588101 non-null  int64 \n",
            " 1   user id        588101 non-null  int64 \n",
            " 2   test group     588101 non-null  object\n",
            " 3   converted      588101 non-null  bool  \n",
            " 4   total ads      588101 non-null  int64 \n",
            " 5   most ads day   588101 non-null  object\n",
            " 6   most ads hour  588101 non-null  int64 \n",
            "dtypes: bool(1), int64(4), object(2)\n",
            "memory usage: 27.5+ MB\n",
            "None\n",
            "          Unnamed: 0       user id      total ads  most ads hour\n",
            "count  588101.000000  5.881010e+05  588101.000000  588101.000000\n",
            "mean   294050.000000  1.310692e+06      24.820876      14.469061\n",
            "std    169770.279667  2.022260e+05      43.715181       4.834634\n",
            "min         0.000000  9.000000e+05       1.000000       0.000000\n",
            "25%    147025.000000  1.143190e+06       4.000000      11.000000\n",
            "50%    294050.000000  1.313725e+06      13.000000      14.000000\n",
            "75%    441075.000000  1.484088e+06      27.000000      18.000000\n",
            "max    588100.000000  1.654483e+06    2065.000000      23.000000\n",
            "   Unnamed: 0  user id test group  converted  total ads most ads day  \\\n",
            "0           0  1069124         ad      False        130       Monday   \n",
            "1           1  1119715         ad      False         93      Tuesday   \n",
            "2           2  1144181         ad      False         21      Tuesday   \n",
            "3           3  1435133         ad      False        355      Tuesday   \n",
            "4           4  1015700         ad      False        276       Friday   \n",
            "\n",
            "   most ads hour  \n",
            "0             20  \n",
            "1             22  \n",
            "2             18  \n",
            "3             10  \n",
            "4             14  \n"
          ]
        }
      ],
      "source": [
        "# 1.1 Исследование структуры данных\n",
        "print(data.info())\n",
        "print(data.describe())\n",
        "print(data.head())"
      ]
    },
    {
      "cell_type": "code",
      "execution_count": 14,
      "metadata": {
        "id": "vpQA4PBeMt5P"
      },
      "outputs": [],
      "source": [
        "# 1.2 Преобразование столбцов к необходимым типам\n",
        "# Преобразуем столбец 'converted' в булев тип\n",
        "data['converted'] = data['converted'].astype(bool)"
      ]
    },
    {
      "cell_type": "code",
      "execution_count": 15,
      "metadata": {
        "colab": {
          "base_uri": "https://localhost:8080/"
        },
        "id": "__ZgFFs7M3wW",
        "outputId": "e972e4b9-c5ff-4cfc-f4f2-2451492dea22"
      },
      "outputs": [
        {
          "name": "stdout",
          "output_type": "stream",
          "text": [
            "Unnamed: 0       0\n",
            "user id          0\n",
            "test group       0\n",
            "converted        0\n",
            "total ads        0\n",
            "most ads day     0\n",
            "most ads hour    0\n",
            "dtype: int64\n"
          ]
        }
      ],
      "source": [
        "# 1.2 Преобразование столбцов к необходимым типам\n",
        "# Преобразуем столбец 'converted' в булев тип\n",
        "data['converted'] = data['converted'].astype(bool)\n",
        "\n",
        "# 1.3 Проверка на пропуски и удаление их, если необходимо\n",
        "print(data.isnull().sum())\n",
        "data = data.dropna()"
      ]
    },
    {
      "cell_type": "code",
      "execution_count": 16,
      "metadata": {
        "colab": {
          "base_uri": "https://localhost:8080/"
        },
        "id": "x0YV5lKmM88W",
        "outputId": "c88caa31-45a2-479f-ca9c-7f0017073f5c"
      },
      "outputs": [
        {
          "name": "stdout",
          "output_type": "stream",
          "text": [
            "Количество пользователей, попавших в обе группы: 0\n"
          ]
        }
      ],
      "source": [
        "# 1.4 Проверка на дублирование пользователей между группами\n",
        "# Уникальные пользователи в каждой группе\n",
        "duplicate_users = data.groupby('user id')['test group'].nunique()\n",
        "duplicate_users = duplicate_users[duplicate_users > 1]\n",
        "print(f\"Количество пользователей, попавших в обе группы: {len(duplicate_users)}\")\n",
        "data = data[~data['user id'].isin(duplicate_users.index)]"
      ]
    },
    {
      "cell_type": "markdown",
      "metadata": {
        "id": "_hFcvFiuNBEa"
      },
      "source": [
        "# Шаг 2. Первичный анализ результатов A/B теста"
      ]
    },
    {
      "cell_type": "code",
      "execution_count": 19,
      "metadata": {
        "colab": {
          "base_uri": "https://localhost:8080/"
        },
        "id": "Mh2Sh9AKNHXL",
        "outputId": "1418ef40-9ede-495b-d753-94f6ead3d2e1"
      },
      "outputs": [
        {
          "name": "stdout",
          "output_type": "stream",
          "text": [
            "Посещения группы ad: 564577, Покупки: 14423\n",
            "Посещения группы psa: 23524, Покупки: 420\n"
          ]
        }
      ],
      "source": [
        "# Разделяем данные на группы\n",
        "group_ad = data[data['test group'] == 'ad']\n",
        "group_psa = data[data['test group'] == 'psa']\n",
        "\n",
        "# Вспомогательные показатели\n",
        "visits_ad = group_ad['user id'].nunique()\n",
        "visits_psa = group_psa['user id'].nunique()\n",
        "\n",
        "purchases_ad = group_ad['converted'].sum()\n",
        "purchases_psa = group_psa['converted'].sum()\n",
        "\n",
        "print(f\"Посещения группы ad: {visits_ad}, Покупки: {purchases_ad}\")\n",
        "print(f\"Посещения группы psa: {visits_psa}, Покупки: {purchases_psa}\")"
      ]
    },
    {
      "cell_type": "code",
      "execution_count": 18,
      "metadata": {
        "colab": {
          "base_uri": "https://localhost:8080/"
        },
        "id": "Hl73j_UKNLqJ",
        "outputId": "0184ee43-25df-4124-9983-bc5a5683501e"
      },
      "outputs": [
        {
          "name": "stdout",
          "output_type": "stream",
          "text": [
            "Размер группы ad: 564577, Размер группы psa: 23524\n"
          ]
        }
      ],
      "source": [
        "# Проверка сбалансированности выборок\n",
        "print(f\"Размер группы ad: {len(group_ad)}, Размер группы psa: {len(group_psa)}\")"
      ]
    },
    {
      "cell_type": "code",
      "execution_count": 20,
      "metadata": {
        "colab": {
          "base_uri": "https://localhost:8080/"
        },
        "id": "fDu7XPR3NYcm",
        "outputId": "54e14cfe-3708-4ef4-b6f0-0b45e1296dc8"
      },
      "outputs": [
        {
          "name": "stdout",
          "output_type": "stream",
          "text": [
            "Конверсия ad: 2.55%, Среднее количество рекламы ad: 24.82\n",
            "Конверсия psa: 1.79%, Среднее количество рекламы psa: 24.76\n"
          ]
        }
      ],
      "source": [
        "# Ключевые показатели\n",
        "conversion_rate_ad = purchases_ad / visits_ad\n",
        "conversion_rate_psa = purchases_psa / visits_psa\n",
        "\n",
        "avg_ads_ad = group_ad['total ads'].mean()\n",
        "avg_ads_psa = group_psa['total ads'].mean()\n",
        "\n",
        "print(f\"Конверсия ad: {conversion_rate_ad:.2%}, Среднее количество рекламы ad: {avg_ads_ad:.2f}\")\n",
        "print(f\"Конверсия psa: {conversion_rate_psa:.2%}, Среднее количество рекламы psa: {avg_ads_psa:.2f}\")"
      ]
    },
    {
      "cell_type": "markdown",
      "metadata": {
        "id": "0laLB7i9Vf8s"
      },
      "source": [
        "**вывод:**\n",
        "1. Общая информация о данных\n",
        "* Объем данных: 588,101 запись, без пропущенных значений в любой колонке.\n",
        "* Структура данных:\n",
        "user id уникален, что предполагает идентификацию каждого пользователя.\n",
        "* test group разделяет данные на группы теста (ad и psa).\n",
        "* converted указывает, совершил ли пользователь покупку (булевый тип).\n",
        "* total ads отражает общее количество увиденной рекламы.\n",
        "* most ads day и most ads hour показывают наиболее активный день и час по просмотрам.\n",
        "2. Описательные статистики\n",
        "* Распределение количества рекламы (total ads):\n",
        "Среднее: 24.82, медиана: 13. Это говорит о значительной асимметрии (наличие пользователей с очень большим количеством просмотров рекламы).\n",
        "* Минимум: 1, максимум: 2065. Это подтверждает наличие выбросов в верхнем хвосте распределения.\n",
        "* Активность по часам (most ads hour):\n",
        "Средний час: 14 (2 часа дня), максимум: 23 (11 вечера), минимум: 0 (полночь). Активность распределена равномерно с небольшим смещением к дневным часам.\n",
        "3. Разделение пользователей по группам\n",
        "* Размеры групп:\n",
        "Группа ad (тестовая): 564,577 пользователей.\n",
        "Группа psa (контрольная): 23,524 пользователей.\n",
        "* Количество пользователей, попавших в обе группы: 0. Это правильно, так как группы должны быть независимы.\n",
        "4. Конверсии и среднее количество рекламы\n",
        "* Конверсии:\n",
        "Группа ad: 2.55%, что значительно выше, чем в группе psa.\n",
        "Группа psa: 1.79%, что на 30% ниже, чем в группе ad.\n",
        "Это подтверждает, что реклама в группе ad привела к увеличению конверсии.\n",
        "* Среднее количество рекламы:\n",
        "Группа ad: 24.82.\n",
        "Группа psa: 24.76.\n",
        "Разница в среднем количестве увиденной рекламы между группами минимальна и статистически незначима (далее T-тест подтверждает)."
      ]
    },
    {
      "cell_type": "markdown",
      "metadata": {
        "id": "mhMCINd0Ncw0"
      },
      "source": [
        "# Шаг 3. Статистический анализ\n",
        "# Гипотезы:\n",
        "* H0: Конверсии между группами ad и psa равны\n",
        "* H1: Конверсии между группами ad и psa различаются"
      ]
    },
    {
      "cell_type": "code",
      "execution_count": null,
      "metadata": {
        "id": "V1i1_d9TN4Km"
      },
      "outputs": [],
      "source": [
        "%pip install --upgrade scipy"
      ]
    },
    {
      "cell_type": "code",
      "execution_count": 23,
      "metadata": {
        "id": "dxOeuf3wOGIX"
      },
      "outputs": [],
      "source": [
        "from statsmodels.stats.proportion import proportions_ztest"
      ]
    },
    {
      "cell_type": "code",
      "execution_count": 25,
      "metadata": {
        "colab": {
          "base_uri": "https://localhost:8080/"
        },
        "id": "gvWaK57ANlkt",
        "outputId": "68b1f864-4c85-4b65-b8a5-0c56f86f9d25"
      },
      "outputs": [
        {
          "name": "stdout",
          "output_type": "stream",
          "text": [
            "Z-статистика: 7.37, p-значение: 0.000\n"
          ]
        }
      ],
      "source": [
        "# Z-тест для долей\n",
        "z_stat, p_value = proportions_ztest(\n",
        "    count=[purchases_ad, purchases_psa],\n",
        "    nobs=[visits_ad, visits_psa]\n",
        ")\n",
        "print(f\"Z-статистика: {z_stat:.2f}, p-значение: {p_value:.3f}\")\n"
      ]
    },
    {
      "cell_type": "markdown",
      "metadata": {
        "id": "Y46fjFSrRLDT"
      },
      "source": [
        "**вывод:** Высокая Z-статистика и p-значение, близкое к нулю, означают, что нулевая гипотеза H_0 \"конверсии между группами ad и psa равны\" отвергается.\n",
        "Это говорит о статистически значимой разнице в конверсиях между группами."
      ]
    },
    {
      "cell_type": "code",
      "execution_count": 26,
      "metadata": {
        "colab": {
          "base_uri": "https://localhost:8080/"
        },
        "id": "QIHyEXglPPGr",
        "outputId": "932e227c-d86c-43bf-8b1d-2863cf914212"
      },
      "outputs": [
        {
          "name": "stdout",
          "output_type": "stream",
          "text": [
            "T-статистика: 0.22, p-значение: 0.827\n"
          ]
        }
      ],
      "source": [
        "# Гипотезы для количества рекламы\n",
        "# H0: Средние количества рекламы в группах равны\n",
        "# H1: Средние количества рекламы в группах различаются\n",
        "\n",
        "# t-тест для средних значений\n",
        "t_stat, p_value_ads = stats.ttest_ind(\n",
        "    group_ad['total ads'],\n",
        "    group_psa['total ads'],\n",
        "    equal_var=False\n",
        ")\n",
        "print(f\"T-статистика: {t_stat:.2f}, p-значение: {p_value_ads:.3f}\")"
      ]
    },
    {
      "cell_type": "markdown",
      "metadata": {
        "id": "97QjO6rjRyW6"
      },
      "source": [
        "**вывод:** Низкая T-статистика и высокое p-значение (𝑝 > 0.05) означают, что нулевая гипотеза не отвергается.\n",
        "Это говорит о том, что средние количества увиденной рекламы в группах ad и psa не отличаются статистически значимо."
      ]
    },
    {
      "cell_type": "markdown",
      "metadata": {
        "id": "b50J1d83PW0N"
      },
      "source": [
        "# Шаг 4. Доверительные интервалы"
      ]
    },
    {
      "cell_type": "code",
      "execution_count": 27,
      "metadata": {
        "colab": {
          "base_uri": "https://localhost:8080/"
        },
        "id": "C0BB2ip9Pa44",
        "outputId": "a32feb41-97b3-4064-d17c-b3fed478c219"
      },
      "outputs": [
        {
          "name": "stdout",
          "output_type": "stream",
          "text": [
            "95% Доверительный интервал для конверсии ad: (0.0251349995427061, 0.025958119730661394)\n",
            "95% Доверительный интервал для конверсии psa: (0.016161914715211324, 0.019546298173753137)\n"
          ]
        }
      ],
      "source": [
        "# Конверсии\n",
        "conf_interval_ad = stats.norm.interval(\n",
        "    0.95, loc=conversion_rate_ad, scale=np.sqrt((conversion_rate_ad * (1 - conversion_rate_ad)) / visits_ad)\n",
        ")\n",
        "conf_interval_psa = stats.norm.interval(\n",
        "    0.95, loc=conversion_rate_psa, scale=np.sqrt((conversion_rate_psa * (1 - conversion_rate_psa)) / visits_psa)\n",
        ")\n",
        "\n",
        "print(f\"95% Доверительный интервал для конверсии ad: {conf_interval_ad}\")\n",
        "print(f\"95% Доверительный интервал для конверсии psa: {conf_interval_psa}\")"
      ]
    },
    {
      "cell_type": "markdown",
      "metadata": {
        "id": "YWq3Oa-MSTWP"
      },
      "source": [
        "**вывод:**\n",
        "* Конверсия в группе ad (экспериментальная группа) лежит в пределах 2.51% - 2.60%.\n",
        "Указывает на стабильность конверсии в экспериментальной группе с высокой точностью.\n",
        "* Конверсия в группе psa (контрольная группа) лежит в пределах 1.62% - 1.95%.\n",
        "Конверсия значительно ниже, чем в группе ad, что подтверждает эффект рекламы.\n"
      ]
    },
    {
      "cell_type": "code",
      "execution_count": 28,
      "metadata": {
        "colab": {
          "base_uri": "https://localhost:8080/"
        },
        "id": "E717Kp5EPgh1",
        "outputId": "ee72df1c-612f-4f9d-8561-20ec33c36ca9"
      },
      "outputs": [
        {
          "name": "stdout",
          "output_type": "stream",
          "text": [
            "95% Доверительный интервал для разницы конверсий: (0.00595090043017032, 0.009434005954232714)\n"
          ]
        }
      ],
      "source": [
        "# Разница конверсий\n",
        "diff_conversion = conversion_rate_ad - conversion_rate_psa\n",
        "std_error_diff = np.sqrt(\n",
        "    (conversion_rate_ad * (1 - conversion_rate_ad)) / visits_ad +\n",
        "    (conversion_rate_psa * (1 - conversion_rate_psa)) / visits_psa\n",
        ")\n",
        "conf_interval_diff = (\n",
        "    diff_conversion - 1.96 * std_error_diff,\n",
        "    diff_conversion + 1.96 * std_error_diff\n",
        ")\n",
        "\n",
        "print(f\"95% Доверительный интервал для разницы конверсий: {conf_interval_diff}\")"
      ]
    },
    {
      "cell_type": "markdown",
      "metadata": {
        "id": "ood24bLBSnUO"
      },
      "source": [
        "**Вывод:** Разница конверсий между группами ad и psa лежит в пределах 0.595% - 0.943%.\n",
        "* Так как доверительный интервал не включает 0, разница статистически значима.\n",
        "* Это подкрепляет вывод, что реклама повышает конверсии."
      ]
    },
    {
      "cell_type": "code",
      "execution_count": 29,
      "metadata": {
        "colab": {
          "base_uri": "https://localhost:8080/"
        },
        "id": "rI0xnn9ZPmwz",
        "outputId": "be8b9fcc-98a6-4075-cf09-c15f7e476716"
      },
      "outputs": [
        {
          "name": "stdout",
          "output_type": "stream",
          "text": [
            "95% Доверительный интервал для рекламы ad: (24.709242934208064, 24.93748727265477)\n",
            "95% Доверительный интервал для рекламы psa: (24.2133977421175, 25.308877381160855)\n"
          ]
        }
      ],
      "source": [
        "# Среднее количество рекламы\n",
        "conf_interval_ads_ad = stats.t.interval(\n",
        "    0.95, len(group_ad) - 1, loc=avg_ads_ad, scale=stats.sem(group_ad['total ads'])\n",
        ")\n",
        "conf_interval_ads_psa = stats.t.interval(\n",
        "    0.95, len(group_psa) - 1, loc=avg_ads_psa, scale=stats.sem(group_psa['total ads'])\n",
        ")\n",
        "\n",
        "print(f\"95% Доверительный интервал для рекламы ad: {conf_interval_ads_ad}\")\n",
        "print(f\"95% Доверительный интервал для рекламы psa: {conf_interval_ads_psa}\")"
      ]
    },
    {
      "cell_type": "markdown",
      "metadata": {
        "id": "hWWOCF1XTEMN"
      },
      "source": [
        "**вывод:**\n",
        "* Среднее количество рекламы, увиденной пользователем в группе ad, лежит в пределах 24.71 - 24.94.\n",
        "Вариация незначительная, что говорит о стабильном количестве рекламы в экспериментальной группе.\n",
        "* Среднее количество рекламы в группе psa лежит в пределах 24.21 - 25.31.\n",
        "* Перекрытие интервалов с группой ad указывает на то, что различия в среднем количестве увиденной рекламы статистически незначимы, что подтверждается тестом."
      ]
    },
    {
      "cell_type": "code",
      "execution_count": 30,
      "metadata": {
        "colab": {
          "base_uri": "https://localhost:8080/",
          "height": 887
        },
        "id": "hAZ0Q8clPrxq",
        "outputId": "da8b3ef6-181f-4baf-a73a-2e9ad132f682"
      },
      "outputs": [
        {
          "data": {
            "image/png": "[encoded data removed]",
            "text/plain": [
              "<Figure size 640x480 with 1 Axes>"
            ]
          },
          "metadata": {},
          "output_type": "display_data"
        },
        {
          "data": {
            "image/png": "[encoded data removed]",
            "text/plain": [
              "<Figure size 640x480 with 1 Axes>"
            ]
          },
          "metadata": {},
          "output_type": "display_data"
        }
      ],
      "source": [
        "# Выводы и визуализация\n",
        "sns.barplot(x=['ad', 'psa'], y=[conversion_rate_ad, conversion_rate_psa])\n",
        "plt.title('Конверсии по группам')\n",
        "plt.show()\n",
        "\n",
        "sns.barplot(x=['ad', 'psa'], y=[avg_ads_ad, avg_ads_psa])\n",
        "plt.title('Среднее количество рекламы по группам')\n",
        "plt.show()"
      ]
    },
    {
      "cell_type": "markdown",
      "metadata": {
        "id": "Idbrc_IITZ14"
      },
      "source": [
        "**вывод:**\n",
        "* Эффект рекламы: Разница в конверсии между группами ad и psa статистически значима (Z-тест и доверительные интервалы подтверждают).\n",
        "* Количество рекламы: Среднее количество рекламы, увиденной пользователями, статистически не отличается между группами (T-тест и доверительные интервалы подтверждают).\n",
        "* Рекомендация: Рекламная кампания оказала значительное влияние на конверсии, но сам объем увиденной рекламы не был значимым фактором."
      ]
    },
    {
      "cell_type": "markdown",
      "metadata": {
        "id": "8g0ZEaO6WxvW"
      },
      "source": [
        "**Итоговые выводы**\n",
        "1. Эффект рекламы:\n",
        "* Рекламная кампания в группе ad значительно увеличила конверсию по сравнению с группой psa.\n",
        "* Это подтверждается Z-тестом для долей, где нулевая гипотеза о равенстве конверсий отвергается.\n",
        "2. Количество рекламы:\n",
        "* Среднее количество увиденной рекламы почти одинаково в обеих группах, что подтверждается статистической проверкой.\n",
        "* Вывод: количество рекламы не влияет на увеличение конверсии, основной эффект достигается за счет качества рекламной кампании.\n",
        "3. Асимметрия в данных:\n",
        "* В данных есть выбросы по количеству рекламы (максимум 2065). Возможно, стоит провести дополнительный анализ этих пользователей.\n",
        "4. структура эксперимента:\n",
        "* Группы независимы, одинаковых пользователей в обеих группах нет. Размеры групп сбалансированы в пределах допустимых отклонений.\n",
        "5. Рекомендации\n",
        "* Основываясь на повышении конверсии в группе ad, можно рекомендовать масштабировать эту рекламную кампанию.\n",
        "* Провести дополнительный анализ выбросов, чтобы понять поведение пользователей, видевших экстремальное количество рекламы.\n",
        "* Пересмотреть структуру эксперимента: возможно, стоит уменьшить дисбаланс в размере групп для более точного анализа."
      ]
    }
  ],
  "metadata": {
    "colab": {
      "provenance": []
    },
    "kernelspec": {
      "display_name": "Python 3",
      "name": "python3"
    },
    "language_info": {
      "name": "python",
      "version": "3.10.6"
    }
  },
  "nbformat": 4,
  "nbformat_minor": 0
}
