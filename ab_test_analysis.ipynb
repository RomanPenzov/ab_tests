{
  "nbformat": 4,
  "nbformat_minor": 0,
  "metadata": {
    "colab": {
      "provenance": []
    },
    "kernelspec": {
      "name": "python3",
      "display_name": "Python 3"
    },
    "language_info": {
      "name": "python"
    }
  },
  "cells": [
    {
      "cell_type": "markdown",
      "source": [
        "# **Вариант 1 с уравниванием групп, проверкой на нормальность, выбор критерия.**"
      ],
      "metadata": {
        "id": "TEj8W8QBkku-"
      }
    },
    {
      "cell_type": "code",
      "source": [
        "import pandas as pd\n",
        "import numpy as np\n",
        "import scipy.stats as stats\n",
        "import matplotlib.pyplot as plt\n",
        "import seaborn as sns\n",
        "# Подключение модуля для загрузки данных из облака\n",
        "import gdown\n",
        "# Для работы с файлами\n",
        "import gc\n",
        "import zipfile"
      ],
      "metadata": {
        "id": "28Xq_B0Ik4ip"
      },
      "execution_count": 2,
      "outputs": []
    },
    {
      "cell_type": "code",
      "source": [
        "# Подключение к Google Drive\n",
        "from google.colab import drive\n",
        "drive.mount('/content/gdrive')"
      ],
      "metadata": {
        "colab": {
          "base_uri": "https://localhost:8080/"
        },
        "id": "mHboxL0ylJwu",
        "outputId": "44492f32-a567-4653-e35e-c215ccb9b67d"
      },
      "execution_count": 4,
      "outputs": [
        {
          "output_type": "stream",
          "name": "stdout",
          "text": [
            "Mounted at /content/gdrive\n"
          ]
        }
      ]
    },
    {
      "cell_type": "code",
      "source": [
        "# Путь к архивному файлу\n",
        "file_path = '/content/gdrive/MyDrive/AB-tests_HW.zip'\n",
        "# Путь к директории, в которую нужно разархивировать файл\n",
        "extract_path = '/content/AB-tests_HW'"
      ],
      "metadata": {
        "id": "7urky4VPlXXl"
      },
      "execution_count": 5,
      "outputs": []
    },
    {
      "cell_type": "code",
      "source": [
        "# Разархивирование файла\n",
        "with zipfile.ZipFile(file_path, 'r') as zip_ref:\n",
        "    zip_ref.extractall(extract_path)"
      ],
      "metadata": {
        "id": "D-tCpW2tleJG"
      },
      "execution_count": 6,
      "outputs": []
    },
    {
      "cell_type": "code",
      "source": [
        "# Загружаем данные\n",
        "data = pd.read_csv('AB-tests_HW/marketing_AB.csv')"
      ],
      "metadata": {
        "id": "VAbtKeg2ljJt"
      },
      "execution_count": 7,
      "outputs": []
    },
    {
      "cell_type": "code",
      "source": [
        "# Шаг 1. Анализ структуры данных и предобработка\n",
        "# 1.1 Исследование структуры данных\n",
        "print(data.info())\n",
        "print(data.describe())\n",
        "print(data.head())"
      ],
      "metadata": {
        "colab": {
          "base_uri": "https://localhost:8080/"
        },
        "id": "ciLjwDzLlqa_",
        "outputId": "da78e693-036f-4f6e-d31c-210c86bd92b4"
      },
      "execution_count": 8,
      "outputs": [
        {
          "output_type": "stream",
          "name": "stdout",
          "text": [
            "<class 'pandas.core.frame.DataFrame'>\n",
            "RangeIndex: 588101 entries, 0 to 588100\n",
            "Data columns (total 7 columns):\n",
            " #   Column         Non-Null Count   Dtype \n",
            "---  ------         --------------   ----- \n",
            " 0   Unnamed: 0     588101 non-null  int64 \n",
            " 1   user id        588101 non-null  int64 \n",
            " 2   test group     588101 non-null  object\n",
            " 3   converted      588101 non-null  bool  \n",
            " 4   total ads      588101 non-null  int64 \n",
            " 5   most ads day   588101 non-null  object\n",
            " 6   most ads hour  588101 non-null  int64 \n",
            "dtypes: bool(1), int64(4), object(2)\n",
            "memory usage: 27.5+ MB\n",
            "None\n",
            "          Unnamed: 0       user id      total ads  most ads hour\n",
            "count  588101.000000  5.881010e+05  588101.000000  588101.000000\n",
            "mean   294050.000000  1.310692e+06      24.820876      14.469061\n",
            "std    169770.279667  2.022260e+05      43.715181       4.834634\n",
            "min         0.000000  9.000000e+05       1.000000       0.000000\n",
            "25%    147025.000000  1.143190e+06       4.000000      11.000000\n",
            "50%    294050.000000  1.313725e+06      13.000000      14.000000\n",
            "75%    441075.000000  1.484088e+06      27.000000      18.000000\n",
            "max    588100.000000  1.654483e+06    2065.000000      23.000000\n",
            "   Unnamed: 0  user id test group  converted  total ads most ads day  \\\n",
            "0           0  1069124         ad      False        130       Monday   \n",
            "1           1  1119715         ad      False         93      Tuesday   \n",
            "2           2  1144181         ad      False         21      Tuesday   \n",
            "3           3  1435133         ad      False        355      Tuesday   \n",
            "4           4  1015700         ad      False        276       Friday   \n",
            "\n",
            "   most ads hour  \n",
            "0             20  \n",
            "1             22  \n",
            "2             18  \n",
            "3             10  \n",
            "4             14  \n"
          ]
        }
      ]
    },
    {
      "cell_type": "code",
      "source": [
        "# 1.2 Преобразование столбцов к необходимым типам\n",
        "# Преобразуем столбец 'converted' в булев тип\n",
        "data['converted'] = data['converted'].astype(bool)\n",
        "\n",
        "# 1.3 Проверка на пропуски и удаление их, если необходимо\n",
        "print(data.isnull().sum())\n",
        "data = data.dropna()"
      ],
      "metadata": {
        "colab": {
          "base_uri": "https://localhost:8080/"
        },
        "id": "7A4zLsEOl4eM",
        "outputId": "1c799505-b6d1-4210-e5a6-66d5d53eb960"
      },
      "execution_count": 9,
      "outputs": [
        {
          "output_type": "stream",
          "name": "stdout",
          "text": [
            "Unnamed: 0       0\n",
            "user id          0\n",
            "test group       0\n",
            "converted        0\n",
            "total ads        0\n",
            "most ads day     0\n",
            "most ads hour    0\n",
            "dtype: int64\n"
          ]
        }
      ]
    },
    {
      "cell_type": "code",
      "source": [
        "# 1.4 Проверка на дублирование пользователей между группами\n",
        "# Уникальные пользователи в каждой группе\n",
        "duplicate_users = data.groupby('user id')['test group'].nunique()\n",
        "duplicate_users = duplicate_users[duplicate_users > 1]\n",
        "print(f\"Количество пользователей, попавших в обе группы: {len(duplicate_users)}\")\n",
        "data = data[~data['user id'].isin(duplicate_users.index)]"
      ],
      "metadata": {
        "colab": {
          "base_uri": "https://localhost:8080/"
        },
        "id": "htb0F2d4mC5V",
        "outputId": "ac643017-e149-4fe9-b1af-9a26835bba3d"
      },
      "execution_count": 13,
      "outputs": [
        {
          "output_type": "stream",
          "name": "stdout",
          "text": [
            "Количество пользователей, попавших в обе группы: 0\n"
          ]
        }
      ]
    },
    {
      "cell_type": "markdown",
      "source": [
        "**анализ датасета:**\n",
        "* Набор данных содержит 588,101 строку и 7 столбцов. Все данные полностью заполнены, пропусков нет.\n",
        "* Минимальное значение показов рекламы — 1, максимальное — 2065. Распределение сильно скошено вправо, что требует дополнительной проверки. По размеру в групп тоже (смотреть вариант 2 ниже)\n",
        "* Дублирование пользователей: проверка показала, что в обе группы не попал ни один пользователь. Это хорошио, та как пересечения могли бы исказить результаты анализа."
      ],
      "metadata": {
        "id": "6NzsAvgUpPNk"
      }
    },
    {
      "cell_type": "code",
      "source": [
        "# Шаг 2. Уравнивание размеров групп (учли результаты из варианта 2)\n",
        "min_group_size = min(len(data[data['test group'] == 'ad']), len(data[data['test group'] == 'psa']))\n",
        "\n",
        "group_ad = data[data['test group'] == 'ad'].sample(min_group_size, random_state=42)\n",
        "group_psa = data[data['test group'] == 'psa'].sample(min_group_size, random_state=42)\n",
        "data = pd.concat([group_ad, group_psa])"
      ],
      "metadata": {
        "id": "VHibejnkm_AG"
      },
      "execution_count": 14,
      "outputs": []
    },
    {
      "cell_type": "code",
      "source": [
        "# Шаг 3. Проверка нормальности данных\n",
        "shapiro_ad = stats.shapiro(group_ad['total ads'])\n",
        "shapiro_psa = stats.shapiro(group_psa['total ads'])\n",
        "print(f\"Шапиро-Wilk для группы ad: статистика={shapiro_ad.statistic:.3f}, p-значение={shapiro_ad.pvalue:.3f}\")\n",
        "print(f\"Шапиро-Wilk для группы psa: статистика={shapiro_psa.statistic:.3f}, p-значение={shapiro_psa.pvalue:.3f}\")"
      ],
      "metadata": {
        "colab": {
          "base_uri": "https://localhost:8080/"
        },
        "id": "RjjfUpabmwCn",
        "outputId": "984835e7-8b94-47e1-ac4c-355ca6bd05bf"
      },
      "execution_count": 15,
      "outputs": [
        {
          "output_type": "stream",
          "name": "stdout",
          "text": [
            "Шапиро-Wilk для группы ad: статистика=0.474, p-значение=0.000\n",
            "Шапиро-Wilk для группы psa: статистика=0.516, p-значение=0.000\n"
          ]
        },
        {
          "output_type": "stream",
          "name": "stderr",
          "text": [
            "/usr/local/lib/python3.10/dist-packages/scipy/stats/_axis_nan_policy.py:531: UserWarning: scipy.stats.shapiro: For N > 5000, computed p-value may not be accurate. Current N is 23524.\n",
            "  res = hypotest_fun_out(*samples, **kwds)\n"
          ]
        }
      ]
    },
    {
      "cell_type": "markdown",
      "source": [
        "**Шапиро-Уилк тест на нормальность:**\n",
        "\n",
        "* Для обеих групп (ad и psa) распределение переменной total ads не является нормальным (p-value = 0.000).\n",
        "* Это подтвердило необходимость использования непараметрических методов."
      ],
      "metadata": {
        "id": "jGtIJgCwppHp"
      }
    },
    {
      "cell_type": "code",
      "source": [
        "# Шаг 4. Статистический анализ\n",
        "if shapiro_ad.pvalue > 0.05 and shapiro_psa.pvalue > 0.05:\n",
        "    # Если распределения нормальные, применяем t-тест\n",
        "    t_stat, p_value_ads = stats.ttest_ind(\n",
        "        group_ad['total ads'],\n",
        "        group_psa['total ads'],\n",
        "        equal_var=False\n",
        "    )\n",
        "    test_type = \"t-тест\"\n",
        "else:\n",
        "    # Если распределения не нормальные, применяем критерий Манна-Уитни\n",
        "    t_stat, p_value_ads = stats.mannwhitneyu(\n",
        "        group_ad['total ads'],\n",
        "        group_psa['total ads'],\n",
        "        alternative='two-sided'\n",
        "    )\n",
        "    test_type = \"Манна-Уитни\"\n",
        "\n",
        "print(f\"{test_type}: статистика={t_stat:.2f}, p-значение={p_value_ads:.3f}\")"
      ],
      "metadata": {
        "colab": {
          "base_uri": "https://localhost:8080/"
        },
        "id": "cAd40qL6nUt9",
        "outputId": "2563dcbd-31bd-46fc-c31a-a3fcfa1ca377"
      },
      "execution_count": 16,
      "outputs": [
        {
          "output_type": "stream",
          "name": "stdout",
          "text": [
            "Манна-Уитни: статистика=283720983.00, p-значение=0.000\n"
          ]
        }
      ]
    },
    {
      "cell_type": "code",
      "source": [
        "# Проверка долей с помощью критерия хи-квадрат\n",
        "contingency_table = pd.crosstab(data['test group'], data['converted'])\n",
        "chi2, p_chi2, _, _ = stats.chi2_contingency(contingency_table)\n",
        "print(f\"Хи-квадрат: статистика={chi2:.2f}, p-значение={p_chi2:.3f}\")"
      ],
      "metadata": {
        "colab": {
          "base_uri": "https://localhost:8080/"
        },
        "id": "G9RBqyw1naq8",
        "outputId": "227eef57-0c92-4f53-d1c5-ef607f831fca"
      },
      "execution_count": 17,
      "outputs": [
        {
          "output_type": "stream",
          "name": "stdout",
          "text": [
            "Хи-квадрат: статистика=45.15, p-значение=0.000\n"
          ]
        }
      ]
    },
    {
      "cell_type": "markdown",
      "source": [
        "**Статистические тесты:**\n",
        "\n",
        "1. Критерий Манна-Уитни:\n",
        "* Статистика = 283,720,983.00, p-value = 0.000. Это указывает на статистически значимые различия между группами по числу показов рекламы.\n",
        "2. Хи-квадрат для долей конверсии:\n",
        "* Статистика = 45.15, p-value = 0.000. Различия в долях конверсии также являются статистически значимыми."
      ],
      "metadata": {
        "id": "g5rBa4RyqP3H"
      }
    },
    {
      "cell_type": "code",
      "source": [
        "# Шаг 5. Доверительные интервалы\n",
        "# Конверсии\n",
        "visits_ad = group_ad['user id'].nunique()\n",
        "visits_psa = group_psa['user id'].nunique()\n",
        "purchases_ad = group_ad['converted'].sum()\n",
        "purchases_psa = group_psa['converted'].sum()\n",
        "conversion_rate_ad = purchases_ad / visits_ad\n",
        "conversion_rate_psa = purchases_psa / visits_psa\n",
        "\n",
        "conf_interval_ad = stats.norm.interval(\n",
        "    0.95, loc=conversion_rate_ad, scale=np.sqrt((conversion_rate_ad * (1 - conversion_rate_ad)) / visits_ad)\n",
        ")\n",
        "conf_interval_psa = stats.norm.interval(\n",
        "    0.95, loc=conversion_rate_psa, scale=np.sqrt((conversion_rate_psa * (1 - conversion_rate_psa)) / visits_psa)\n",
        ")\n",
        "\n",
        "print(f\"95% Доверительный интервал для конверсии ad: {conf_interval_ad}\")\n",
        "print(f\"95% Доверительный интервал для конверсии psa: {conf_interval_psa}\")"
      ],
      "metadata": {
        "colab": {
          "base_uri": "https://localhost:8080/"
        },
        "id": "WDrpQQlXnft2",
        "outputId": "d1e566e5-6cda-4f58-ebcb-b9134f489025"
      },
      "execution_count": 18,
      "outputs": [
        {
          "output_type": "stream",
          "name": "stdout",
          "text": [
            "95% Доверительный интервал для конверсии ad: (0.025004552675299236, 0.0291529035396302)\n",
            "95% Доверительный интервал для конверсии psa: (0.016161914715211324, 0.019546298173753137)\n"
          ]
        }
      ]
    },
    {
      "cell_type": "code",
      "source": [
        "# Разница конверсий\n",
        "diff_conversion = conversion_rate_ad - conversion_rate_psa\n",
        "std_error_diff = np.sqrt(\n",
        "    (conversion_rate_ad * (1 - conversion_rate_ad)) / visits_ad +\n",
        "    (conversion_rate_psa * (1 - conversion_rate_psa)) / visits_psa\n",
        ")\n",
        "conf_interval_diff = (\n",
        "    diff_conversion - 1.96 * std_error_diff,\n",
        "    diff_conversion + 1.96 * std_error_diff\n",
        ")\n",
        "\n",
        "print(f\"95% Доверительный интервал для разницы конверсий: {conf_interval_diff}\")"
      ],
      "metadata": {
        "colab": {
          "base_uri": "https://localhost:8080/"
        },
        "id": "gLnLeWPdnkoz",
        "outputId": "b23ab3f6-1c7f-4d96-b430-b0006fd5e9b2"
      },
      "execution_count": 19,
      "outputs": [
        {
          "output_type": "stream",
          "name": "stdout",
          "text": [
            "95% Доверительный интервал для разницы конверсий: (0.006547686863119494, 0.011901556462845481)\n"
          ]
        }
      ]
    },
    {
      "cell_type": "code",
      "source": [
        "# Среднее количество рекламы\n",
        "avg_ads_ad = group_ad['total ads'].mean()\n",
        "avg_ads_psa = group_psa['total ads'].mean()\n",
        "conf_interval_ads_ad = stats.t.interval(\n",
        "    0.95, len(group_ad) - 1, loc=avg_ads_ad, scale=stats.sem(group_ad['total ads'])\n",
        ")\n",
        "conf_interval_ads_psa = stats.t.interval(\n",
        "    0.95, len(group_psa) - 1, loc=avg_ads_psa, scale=stats.sem(group_psa['total ads'])\n",
        ")\n",
        "\n",
        "print(f\"95% Доверительный интервал для рекламы ad: {conf_interval_ads_ad}\")\n",
        "print(f\"95% Доверительный интервал для рекламы psa: {conf_interval_ads_psa}\")"
      ],
      "metadata": {
        "colab": {
          "base_uri": "https://localhost:8080/"
        },
        "id": "calpmRU1npsx",
        "outputId": "cc8e11e0-dff3-404f-8fb6-83e06370f37e"
      },
      "execution_count": 20,
      "outputs": [
        {
          "output_type": "stream",
          "name": "stdout",
          "text": [
            "95% Доверительный интервал для рекламы ad: (24.18043805280532, 25.29983741055125)\n",
            "95% Доверительный интервал для рекламы psa: (24.2133977421175, 25.308877381160855)\n"
          ]
        }
      ]
    },
    {
      "cell_type": "markdown",
      "source": [
        "Доверительные интервалы:\n",
        "\n",
        "1. Для конверсии:\n",
        "* ad: (2.50%, 2.92%), psa: (1.62%, 1.95%).\n",
        "* Разница между конверсиями: (0.65%, 1.19%), что подтверждает значимость.\n",
        "2. Для среднего числа показов рекламы:\n",
        "* ad: (24.18, 25.30), psa: (24.21, 25.31).\n",
        "* Разница между группами минимальна и находится в пределах доверительного интервала."
      ],
      "metadata": {
        "id": "6kydWguuqsEy"
      }
    },
    {
      "cell_type": "code",
      "source": [
        "# Выводы и визуализация\n",
        "sns.barplot(x=['ad', 'psa'], y=[conversion_rate_ad, conversion_rate_psa])\n",
        "plt.title('Конверсии по группам')\n",
        "plt.show()\n",
        "\n",
        "sns.barplot(x=['ad', 'psa'], y=[avg_ads_ad, avg_ads_psa])\n",
        "plt.title('Среднее количество рекламы по группам')\n",
        "plt.show()\n"
      ],
      "metadata": {
        "colab": {
          "base_uri": "https://localhost:8080/",
          "height": 887
        },
        "id": "oDarmnSfntkW",
        "outputId": "7af89ea4-87f7-46f9-dacb-f76f9bcf0cf8"
      },
      "execution_count": 21,
      "outputs": [
        {
          "output_type": "display_data",
          "data": {
            "text/plain": [
              "<Figure size 640x480 with 1 Axes>"
            ],
            "image/png": "[encoded data removed]"
          },
          "metadata": {}
        },
        {
          "output_type": "display_data",
          "data": {
            "text/plain": [
              "<Figure size 640x480 with 1 Axes>"
            ],
            "image/png": "[encoded data removed]"
          },
          "metadata": {}
        }
      ]
    },
    {
      "cell_type": "markdown",
      "source": [
        "**Общий вывод:**\n",
        "* Группа ad демонстрирует более высокую конверсию, чем группа psa. Однако среднее количество показов рекламы между группами не отличается существенно. Учитывая статистическую значимость различий в конверсии, группа ad более эффективна для увеличения числа конверсий.\n",
        "\n",
        "**Рекомендации:**\n",
        "1. Оптимизация рекламной кампании:\n",
        "* Улучшить формат или контент рекламных объявлений в группе ad, так как она уже показывает более высокую эффективность.\n",
        "2. Проверка сегментов пользователей:\n",
        "* Провести дополнительный анализ, чтобы понять, есть ли группы пользователей, где стратегия psa может быть более эффективной.\n",
        "3. Мониторинг затрат:\n",
        "* Сравнить стоимость привлечения пользователей для обеих групп, чтобы учитывать не только конверсию, но и экономическую эффективность.\n",
        "4. Повторный тест:\n",
        "* Провести дополнительные A/B-тесты, чтобы подтвердить результаты и изучить долгосрочные эффекты стратегии ad."
      ],
      "metadata": {
        "id": "TOdzc1HnrOwZ"
      }
    },
    {
      "cell_type": "markdown",
      "source": [
        "# **=========================================================================================**"
      ],
      "metadata": {
        "id": "Nsh4a5bel2fa"
      }
    },
    {
      "cell_type": "markdown",
      "source": [
        "# **Вариант 2, если мы уверены в нормальности, что достаточно редко**"
      ],
      "metadata": {
        "id": "Nn7bRmU_kTfY"
      }
    },
    {
      "cell_type": "code",
      "source": [
        "import pandas as pd\n",
        "import numpy as np\n",
        "import scipy.stats as stats\n",
        "import matplotlib.pyplot as plt\n",
        "import seaborn as sns\n",
        "# Подключение модуля для загрузки данных из облака\n",
        "import gdown\n",
        "# Для работы с файлами\n",
        "import gc\n",
        "import zipfile"
      ],
      "metadata": {
        "id": "WVeFD_EMJQgS"
      },
      "execution_count": null,
      "outputs": []
    },
    {
      "cell_type": "code",
      "source": [
        "# Подключение к Google Drive\n",
        "from google.colab import drive\n",
        "drive.mount('/content/gdrive')"
      ],
      "metadata": {
        "colab": {
          "base_uri": "https://localhost:8080/"
        },
        "id": "9WxZOSHNKdwS",
        "outputId": "8517dd41-bb02-4bbb-f94f-cc581ce3374e"
      },
      "execution_count": null,
      "outputs": [
        {
          "output_type": "stream",
          "name": "stdout",
          "text": [
            "Mounted at /content/gdrive\n"
          ]
        }
      ]
    },
    {
      "cell_type": "code",
      "source": [
        "# Путь к архивному файлу\n",
        "file_path = '/content/gdrive/MyDrive/AB-tests_HW.zip'\n",
        "# Путь к директории, в которую нужно разархивировать файл\n",
        "extract_path = '/content/AB-tests_HW'"
      ],
      "metadata": {
        "id": "Ipzcr1VXKuwH"
      },
      "execution_count": null,
      "outputs": []
    },
    {
      "cell_type": "code",
      "source": [
        "# Разархивирование файла\n",
        "with zipfile.ZipFile(file_path, 'r') as zip_ref:\n",
        "    zip_ref.extractall(extract_path)"
      ],
      "metadata": {
        "id": "U2tUuw9oLp_r"
      },
      "execution_count": null,
      "outputs": []
    },
    {
      "cell_type": "code",
      "source": [
        "# Загружаем данные\n",
        "data = pd.read_csv('AB-tests_HW/marketing_AB.csv')"
      ],
      "metadata": {
        "id": "eR45sr-LL_wS"
      },
      "execution_count": null,
      "outputs": []
    },
    {
      "cell_type": "markdown",
      "source": [
        "# Шаг 1. Анализ структуры данных и предобработка"
      ],
      "metadata": {
        "id": "YYvq5pTlMk6W"
      }
    },
    {
      "cell_type": "code",
      "source": [
        "# 1.1 Исследование структуры данных\n",
        "print(data.info())\n",
        "print(data.describe())\n",
        "print(data.head())"
      ],
      "metadata": {
        "colab": {
          "base_uri": "https://localhost:8080/"
        },
        "id": "kgC3dfd6MozA",
        "outputId": "28e4b3c9-13dd-4bcb-f4b1-d1a42dc3295e"
      },
      "execution_count": null,
      "outputs": [
        {
          "output_type": "stream",
          "name": "stdout",
          "text": [
            "<class 'pandas.core.frame.DataFrame'>\n",
            "RangeIndex: 588101 entries, 0 to 588100\n",
            "Data columns (total 7 columns):\n",
            " #   Column         Non-Null Count   Dtype \n",
            "---  ------         --------------   ----- \n",
            " 0   Unnamed: 0     588101 non-null  int64 \n",
            " 1   user id        588101 non-null  int64 \n",
            " 2   test group     588101 non-null  object\n",
            " 3   converted      588101 non-null  bool  \n",
            " 4   total ads      588101 non-null  int64 \n",
            " 5   most ads day   588101 non-null  object\n",
            " 6   most ads hour  588101 non-null  int64 \n",
            "dtypes: bool(1), int64(4), object(2)\n",
            "memory usage: 27.5+ MB\n",
            "None\n",
            "          Unnamed: 0       user id      total ads  most ads hour\n",
            "count  588101.000000  5.881010e+05  588101.000000  588101.000000\n",
            "mean   294050.000000  1.310692e+06      24.820876      14.469061\n",
            "std    169770.279667  2.022260e+05      43.715181       4.834634\n",
            "min         0.000000  9.000000e+05       1.000000       0.000000\n",
            "25%    147025.000000  1.143190e+06       4.000000      11.000000\n",
            "50%    294050.000000  1.313725e+06      13.000000      14.000000\n",
            "75%    441075.000000  1.484088e+06      27.000000      18.000000\n",
            "max    588100.000000  1.654483e+06    2065.000000      23.000000\n",
            "   Unnamed: 0  user id test group  converted  total ads most ads day  \\\n",
            "0           0  1069124         ad      False        130       Monday   \n",
            "1           1  1119715         ad      False         93      Tuesday   \n",
            "2           2  1144181         ad      False         21      Tuesday   \n",
            "3           3  1435133         ad      False        355      Tuesday   \n",
            "4           4  1015700         ad      False        276       Friday   \n",
            "\n",
            "   most ads hour  \n",
            "0             20  \n",
            "1             22  \n",
            "2             18  \n",
            "3             10  \n",
            "4             14  \n"
          ]
        }
      ]
    },
    {
      "cell_type": "code",
      "source": [
        "# 1.2 Преобразование столбцов к необходимым типам\n",
        "# Преобразуем столбец 'converted' в булев тип\n",
        "data['converted'] = data['converted'].astype(bool)"
      ],
      "metadata": {
        "id": "vpQA4PBeMt5P"
      },
      "execution_count": null,
      "outputs": []
    },
    {
      "cell_type": "code",
      "source": [
        "# 1.2 Преобразование столбцов к необходимым типам\n",
        "# Преобразуем столбец 'converted' в булев тип\n",
        "data['converted'] = data['converted'].astype(bool)\n",
        "\n",
        "# 1.3 Проверка на пропуски и удаление их, если необходимо\n",
        "print(data.isnull().sum())\n",
        "data = data.dropna()"
      ],
      "metadata": {
        "colab": {
          "base_uri": "https://localhost:8080/"
        },
        "id": "__ZgFFs7M3wW",
        "outputId": "e972e4b9-c5ff-4cfc-f4f2-2451492dea22"
      },
      "execution_count": null,
      "outputs": [
        {
          "output_type": "stream",
          "name": "stdout",
          "text": [
            "Unnamed: 0       0\n",
            "user id          0\n",
            "test group       0\n",
            "converted        0\n",
            "total ads        0\n",
            "most ads day     0\n",
            "most ads hour    0\n",
            "dtype: int64\n"
          ]
        }
      ]
    },
    {
      "cell_type": "code",
      "source": [
        "# 1.4 Проверка на дублирование пользователей между группами\n",
        "# Уникальные пользователи в каждой группе\n",
        "duplicate_users = data.groupby('user id')['test group'].nunique()\n",
        "duplicate_users = duplicate_users[duplicate_users > 1]\n",
        "print(f\"Количество пользователей, попавших в обе группы: {len(duplicate_users)}\")\n",
        "data = data[~data['user id'].isin(duplicate_users.index)]"
      ],
      "metadata": {
        "colab": {
          "base_uri": "https://localhost:8080/"
        },
        "id": "x0YV5lKmM88W",
        "outputId": "c88caa31-45a2-479f-ca9c-7f0017073f5c"
      },
      "execution_count": null,
      "outputs": [
        {
          "output_type": "stream",
          "name": "stdout",
          "text": [
            "Количество пользователей, попавших в обе группы: 0\n"
          ]
        }
      ]
    },
    {
      "cell_type": "markdown",
      "source": [
        "# Шаг 2. Первичный анализ результатов A/B теста"
      ],
      "metadata": {
        "id": "_hFcvFiuNBEa"
      }
    },
    {
      "cell_type": "code",
      "source": [
        "# Разделяем данные на группы\n",
        "group_ad = data[data['test group'] == 'ad']\n",
        "group_psa = data[data['test group'] == 'psa']\n",
        "\n",
        "# Вспомогательные показатели\n",
        "visits_ad = group_ad['user id'].nunique()\n",
        "visits_psa = group_psa['user id'].nunique()\n",
        "\n",
        "purchases_ad = group_ad['converted'].sum()\n",
        "purchases_psa = group_psa['converted'].sum()\n",
        "\n",
        "print(f\"Посещения группы ad: {visits_ad}, Покупки: {purchases_ad}\")\n",
        "print(f\"Посещения группы psa: {visits_psa}, Покупки: {purchases_psa}\")"
      ],
      "metadata": {
        "colab": {
          "base_uri": "https://localhost:8080/"
        },
        "id": "Mh2Sh9AKNHXL",
        "outputId": "1418ef40-9ede-495b-d753-94f6ead3d2e1"
      },
      "execution_count": null,
      "outputs": [
        {
          "output_type": "stream",
          "name": "stdout",
          "text": [
            "Посещения группы ad: 564577, Покупки: 14423\n",
            "Посещения группы psa: 23524, Покупки: 420\n"
          ]
        }
      ]
    },
    {
      "cell_type": "code",
      "source": [
        "# Проверка сбалансированности выборок\n",
        "print(f\"Размер группы ad: {len(group_ad)}, Размер группы psa: {len(group_psa)}\")"
      ],
      "metadata": {
        "colab": {
          "base_uri": "https://localhost:8080/"
        },
        "id": "Hl73j_UKNLqJ",
        "outputId": "0184ee43-25df-4124-9983-bc5a5683501e"
      },
      "execution_count": null,
      "outputs": [
        {
          "output_type": "stream",
          "name": "stdout",
          "text": [
            "Размер группы ad: 564577, Размер группы psa: 23524\n"
          ]
        }
      ]
    },
    {
      "cell_type": "code",
      "source": [
        "# Ключевые показатели\n",
        "conversion_rate_ad = purchases_ad / visits_ad\n",
        "conversion_rate_psa = purchases_psa / visits_psa\n",
        "\n",
        "avg_ads_ad = group_ad['total ads'].mean()\n",
        "avg_ads_psa = group_psa['total ads'].mean()\n",
        "\n",
        "print(f\"Конверсия ad: {conversion_rate_ad:.2%}, Среднее количество рекламы ad: {avg_ads_ad:.2f}\")\n",
        "print(f\"Конверсия psa: {conversion_rate_psa:.2%}, Среднее количество рекламы psa: {avg_ads_psa:.2f}\")"
      ],
      "metadata": {
        "colab": {
          "base_uri": "https://localhost:8080/"
        },
        "id": "fDu7XPR3NYcm",
        "outputId": "54e14cfe-3708-4ef4-b6f0-0b45e1296dc8"
      },
      "execution_count": null,
      "outputs": [
        {
          "output_type": "stream",
          "name": "stdout",
          "text": [
            "Конверсия ad: 2.55%, Среднее количество рекламы ad: 24.82\n",
            "Конверсия psa: 1.79%, Среднее количество рекламы psa: 24.76\n"
          ]
        }
      ]
    },
    {
      "cell_type": "markdown",
      "source": [
        "**вывод:**\n",
        "1. Общая информация о данных\n",
        "* Объем данных: 588,101 запись, без пропущенных значений в любой колонке.\n",
        "* Структура данных:\n",
        "user id уникален, что предполагает идентификацию каждого пользователя.\n",
        "* test group разделяет данные на группы теста (ad и psa).\n",
        "* converted указывает, совершил ли пользователь покупку (булевый тип).\n",
        "* total ads отражает общее количество увиденной рекламы.\n",
        "* most ads day и most ads hour показывают наиболее активный день и час по просмотрам.\n",
        "2. Описательные статистики\n",
        "* Распределение количества рекламы (total ads):\n",
        "Среднее: 24.82, медиана: 13. Это говорит о значительной асимметрии (наличие пользователей с очень большим количеством просмотров рекламы).\n",
        "* Минимум: 1, максимум: 2065. Это подтверждает наличие выбросов в верхнем хвосте распределения.\n",
        "* Активность по часам (most ads hour):\n",
        "Средний час: 14 (2 часа дня), максимум: 23 (11 вечера), минимум: 0 (полночь). Активность распределена равномерно с небольшим смещением к дневным часам.\n",
        "3. Разделение пользователей по группам\n",
        "* Размеры групп:\n",
        "Группа ad (тестовая): 564,577 пользователей.\n",
        "Группа psa (контрольная): 23,524 пользователей.\n",
        "* Количество пользователей, попавших в обе группы: 0. Это правильно, так как группы должны быть независимы.\n",
        "4. Конверсии и среднее количество рекламы\n",
        "* Конверсии:\n",
        "Группа ad: 2.55%, что значительно выше, чем в группе psa.\n",
        "Группа psa: 1.79%, что на 30% ниже, чем в группе ad.\n",
        "Это подтверждает, что реклама в группе ad привела к увеличению конверсии.\n",
        "* Среднее количество рекламы:\n",
        "Группа ad: 24.82.\n",
        "Группа psa: 24.76.\n",
        "Разница в среднем количестве увиденной рекламы между группами минимальна и статистически незначима (далее T-тест подтверждает)."
      ],
      "metadata": {
        "id": "0laLB7i9Vf8s"
      }
    },
    {
      "cell_type": "markdown",
      "source": [
        "# Шаг 3. Статистический анализ\n",
        "# Гипотезы:\n",
        "* H0: Конверсии между группами ad и psa равны\n",
        "* H1: Конверсии между группами ad и psa различаются"
      ],
      "metadata": {
        "id": "mhMCINd0Ncw0"
      }
    },
    {
      "cell_type": "code",
      "source": [
        "%pip install --upgrade scipy"
      ],
      "metadata": {
        "id": "V1i1_d9TN4Km"
      },
      "execution_count": null,
      "outputs": []
    },
    {
      "cell_type": "code",
      "source": [
        "from statsmodels.stats.proportion import proportions_ztest"
      ],
      "metadata": {
        "id": "dxOeuf3wOGIX"
      },
      "execution_count": null,
      "outputs": []
    },
    {
      "cell_type": "code",
      "source": [
        "# Z-тест для долей\n",
        "z_stat, p_value = proportions_ztest(\n",
        "    count=[purchases_ad, purchases_psa],\n",
        "    nobs=[visits_ad, visits_psa]\n",
        ")\n",
        "print(f\"Z-статистика: {z_stat:.2f}, p-значение: {p_value:.3f}\")\n"
      ],
      "metadata": {
        "colab": {
          "base_uri": "https://localhost:8080/"
        },
        "id": "gvWaK57ANlkt",
        "outputId": "68b1f864-4c85-4b65-b8a5-0c56f86f9d25"
      },
      "execution_count": null,
      "outputs": [
        {
          "output_type": "stream",
          "name": "stdout",
          "text": [
            "Z-статистика: 7.37, p-значение: 0.000\n"
          ]
        }
      ]
    },
    {
      "cell_type": "markdown",
      "source": [
        "**вывод:** Высокая Z-статистика и p-значение, близкое к нулю, означают, что нулевая гипотеза H_0 \"конверсии между группами ad и psa равны\" отвергается.\n",
        "Это говорит о статистически значимой разнице в конверсиях между группами."
      ],
      "metadata": {
        "id": "Y46fjFSrRLDT"
      }
    },
    {
      "cell_type": "code",
      "source": [
        "# Гипотезы для количества рекламы\n",
        "# H0: Средние количества рекламы в группах равны\n",
        "# H1: Средние количества рекламы в группах различаются\n",
        "\n",
        "# t-тест для средних значений\n",
        "t_stat, p_value_ads = stats.ttest_ind(\n",
        "    group_ad['total ads'],\n",
        "    group_psa['total ads'],\n",
        "    equal_var=False\n",
        ")\n",
        "print(f\"T-статистика: {t_stat:.2f}, p-значение: {p_value_ads:.3f}\")"
      ],
      "metadata": {
        "colab": {
          "base_uri": "https://localhost:8080/"
        },
        "id": "QIHyEXglPPGr",
        "outputId": "932e227c-d86c-43bf-8b1d-2863cf914212"
      },
      "execution_count": null,
      "outputs": [
        {
          "output_type": "stream",
          "name": "stdout",
          "text": [
            "T-статистика: 0.22, p-значение: 0.827\n"
          ]
        }
      ]
    },
    {
      "cell_type": "markdown",
      "source": [
        "**вывод:** Низкая T-статистика и высокое p-значение (𝑝 > 0.05) означают, что нулевая гипотеза не отвергается.\n",
        "Это говорит о том, что средние количества увиденной рекламы в группах ad и psa не отличаются статистически значимо."
      ],
      "metadata": {
        "id": "97QjO6rjRyW6"
      }
    },
    {
      "cell_type": "markdown",
      "source": [
        "# Шаг 4. Доверительные интервалы"
      ],
      "metadata": {
        "id": "b50J1d83PW0N"
      }
    },
    {
      "cell_type": "code",
      "source": [
        "# Конверсии\n",
        "conf_interval_ad = stats.norm.interval(\n",
        "    0.95, loc=conversion_rate_ad, scale=np.sqrt((conversion_rate_ad * (1 - conversion_rate_ad)) / visits_ad)\n",
        ")\n",
        "conf_interval_psa = stats.norm.interval(\n",
        "    0.95, loc=conversion_rate_psa, scale=np.sqrt((conversion_rate_psa * (1 - conversion_rate_psa)) / visits_psa)\n",
        ")\n",
        "\n",
        "print(f\"95% Доверительный интервал для конверсии ad: {conf_interval_ad}\")\n",
        "print(f\"95% Доверительный интервал для конверсии psa: {conf_interval_psa}\")"
      ],
      "metadata": {
        "colab": {
          "base_uri": "https://localhost:8080/"
        },
        "id": "C0BB2ip9Pa44",
        "outputId": "a32feb41-97b3-4064-d17c-b3fed478c219"
      },
      "execution_count": null,
      "outputs": [
        {
          "output_type": "stream",
          "name": "stdout",
          "text": [
            "95% Доверительный интервал для конверсии ad: (0.0251349995427061, 0.025958119730661394)\n",
            "95% Доверительный интервал для конверсии psa: (0.016161914715211324, 0.019546298173753137)\n"
          ]
        }
      ]
    },
    {
      "cell_type": "markdown",
      "source": [
        "**вывод:**\n",
        "* Конверсия в группе ad (экспериментальная группа) лежит в пределах 2.51% - 2.60%.\n",
        "Указывает на стабильность конверсии в экспериментальной группе с высокой точностью.\n",
        "* Конверсия в группе psa (контрольная группа) лежит в пределах 1.62% - 1.95%.\n",
        "Конверсия значительно ниже, чем в группе ad, что подтверждает эффект рекламы.\n"
      ],
      "metadata": {
        "id": "YWq3Oa-MSTWP"
      }
    },
    {
      "cell_type": "code",
      "source": [
        "# Разница конверсий\n",
        "diff_conversion = conversion_rate_ad - conversion_rate_psa\n",
        "std_error_diff = np.sqrt(\n",
        "    (conversion_rate_ad * (1 - conversion_rate_ad)) / visits_ad +\n",
        "    (conversion_rate_psa * (1 - conversion_rate_psa)) / visits_psa\n",
        ")\n",
        "conf_interval_diff = (\n",
        "    diff_conversion - 1.96 * std_error_diff,\n",
        "    diff_conversion + 1.96 * std_error_diff\n",
        ")\n",
        "\n",
        "print(f\"95% Доверительный интервал для разницы конверсий: {conf_interval_diff}\")"
      ],
      "metadata": {
        "colab": {
          "base_uri": "https://localhost:8080/"
        },
        "id": "E717Kp5EPgh1",
        "outputId": "ee72df1c-612f-4f9d-8561-20ec33c36ca9"
      },
      "execution_count": null,
      "outputs": [
        {
          "output_type": "stream",
          "name": "stdout",
          "text": [
            "95% Доверительный интервал для разницы конверсий: (0.00595090043017032, 0.009434005954232714)\n"
          ]
        }
      ]
    },
    {
      "cell_type": "markdown",
      "source": [
        "**Вывод:** Разница конверсий между группами ad и psa лежит в пределах 0.595% - 0.943%.\n",
        "* Так как доверительный интервал не включает 0, разница статистически значима.\n",
        "* Это подкрепляет вывод, что реклама повышает конверсии."
      ],
      "metadata": {
        "id": "ood24bLBSnUO"
      }
    },
    {
      "cell_type": "code",
      "source": [
        "# Среднее количество рекламы\n",
        "conf_interval_ads_ad = stats.t.interval(\n",
        "    0.95, len(group_ad) - 1, loc=avg_ads_ad, scale=stats.sem(group_ad['total ads'])\n",
        ")\n",
        "conf_interval_ads_psa = stats.t.interval(\n",
        "    0.95, len(group_psa) - 1, loc=avg_ads_psa, scale=stats.sem(group_psa['total ads'])\n",
        ")\n",
        "\n",
        "print(f\"95% Доверительный интервал для рекламы ad: {conf_interval_ads_ad}\")\n",
        "print(f\"95% Доверительный интервал для рекламы psa: {conf_interval_ads_psa}\")"
      ],
      "metadata": {
        "colab": {
          "base_uri": "https://localhost:8080/"
        },
        "id": "rI0xnn9ZPmwz",
        "outputId": "be8b9fcc-98a6-4075-cf09-c15f7e476716"
      },
      "execution_count": null,
      "outputs": [
        {
          "output_type": "stream",
          "name": "stdout",
          "text": [
            "95% Доверительный интервал для рекламы ad: (24.709242934208064, 24.93748727265477)\n",
            "95% Доверительный интервал для рекламы psa: (24.2133977421175, 25.308877381160855)\n"
          ]
        }
      ]
    },
    {
      "cell_type": "markdown",
      "source": [
        "**вывод:**\n",
        "* Среднее количество рекламы, увиденной пользователем в группе ad, лежит в пределах 24.71 - 24.94.\n",
        "Вариация незначительная, что говорит о стабильном количестве рекламы в экспериментальной группе.\n",
        "* Среднее количество рекламы в группе psa лежит в пределах 24.21 - 25.31.\n",
        "* Перекрытие интервалов с группой ad указывает на то, что различия в среднем количестве увиденной рекламы статистически незначимы, что подтверждается тестом."
      ],
      "metadata": {
        "id": "hWWOCF1XTEMN"
      }
    },
    {
      "cell_type": "code",
      "source": [
        "# Выводы и визуализация\n",
        "sns.barplot(x=['ad', 'psa'], y=[conversion_rate_ad, conversion_rate_psa])\n",
        "plt.title('Конверсии по группам')\n",
        "plt.show()\n",
        "\n",
        "sns.barplot(x=['ad', 'psa'], y=[avg_ads_ad, avg_ads_psa])\n",
        "plt.title('Среднее количество рекламы по группам')\n",
        "plt.show()"
      ],
      "metadata": {
        "colab": {
          "base_uri": "https://localhost:8080/",
          "height": 887
        },
        "id": "hAZ0Q8clPrxq",
        "outputId": "da8b3ef6-181f-4baf-a73a-2e9ad132f682"
      },
      "execution_count": null,
      "outputs": [
        {
          "output_type": "display_data",
          "data": {
            "text/plain": [
              "<Figure size 640x480 with 1 Axes>"
            ],
            "image/png": "[encoded data removed]"
          },
          "metadata": {}
        },
        {
          "output_type": "display_data",
          "data": {
            "text/plain": [
              "<Figure size 640x480 with 1 Axes>"
            ],
            "image/png": "[encoded data removed]"
          },
          "metadata": {}
        }
      ]
    },
    {
      "cell_type": "markdown",
      "source": [
        "**вывод:**\n",
        "* Эффект рекламы: Разница в конверсии между группами ad и psa статистически значима (Z-тест и доверительные интервалы подтверждают).\n",
        "* Количество рекламы: Среднее количество рекламы, увиденной пользователями, статистически не отличается между группами (T-тест и доверительные интервалы подтверждают).\n",
        "* Рекомендация: Рекламная кампания оказала значительное влияние на конверсии, но сам объем увиденной рекламы не был значимым фактором."
      ],
      "metadata": {
        "id": "Idbrc_IITZ14"
      }
    },
    {
      "cell_type": "markdown",
      "source": [
        "**Итоговые выводы**\n",
        "1. Эффект рекламы:\n",
        "* Рекламная кампания в группе ad значительно увеличила конверсию по сравнению с группой psa.\n",
        "* Это подтверждается Z-тестом для долей, где нулевая гипотеза о равенстве конверсий отвергается.\n",
        "2. Количество рекламы:\n",
        "* Среднее количество увиденной рекламы почти одинаково в обеих группах, что подтверждается статистической проверкой.\n",
        "* Вывод: количество рекламы не влияет на увеличение конверсии, основной эффект достигается за счет качества рекламной кампании.\n",
        "3. Асимметрия в данных:\n",
        "* В данных есть выбросы по количеству рекламы (максимум 2065). Возможно, стоит провести дополнительный анализ этих пользователей.\n",
        "4. структура эксперимента:\n",
        "* Группы независимы, одинаковых пользователей в обеих группах нет. Размеры групп сбалансированы в пределах допустимых отклонений.\n",
        "5. Рекомендации\n",
        "* Основываясь на повышении конверсии в группе ad, можно рекомендовать масштабировать эту рекламную кампанию.\n",
        "* Провести дополнительный анализ выбросов, чтобы понять поведение пользователей, видевших экстремальное количество рекламы.\n",
        "* Пересмотреть структуру эксперимента: возможно, стоит уменьшить дисбаланс в размере групп для более точного анализа."
      ],
      "metadata": {
        "id": "8g0ZEaO6WxvW"
      }
    }
  ]
}